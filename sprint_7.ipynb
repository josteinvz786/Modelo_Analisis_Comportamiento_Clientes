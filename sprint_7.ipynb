{
 "cells": [
  {
   "attachments": {},
   "cell_type": "markdown",
   "metadata": {},
   "source": [
    "# Contents <a id='back'></a>\n",
    "\n",
    "* [Introducción](#intro)\n",
    "* [Etapa 1. Análisis exploratorio de datos](#data_review)\n",
    "    * [Conclusions](#data_review_conclusions)\n",
    "    * [2.3 Tipos de Datos](#type_data)\n",
    "* [Etapa 2. Segmentar los datos](#seg_data)\n",
    "* [Etapa 3. Desarrollo del modelo](#hypotheses)\n",
    "* [Conclusiones](#end)"
   ]
  },
  {
   "attachments": {},
   "cell_type": "markdown",
   "metadata": {},
   "source": [
    "## Introducción <a id='intro'></a>\n",
    "En este proyecto, la tarea es desarrollar un modelo que pueda analizar el comportamiento de los clientes y recomendar uno de los nuevos planes de Megaline: Smart o Ultra. Se Tiene acceso a los datos de comportamiento de los suscriptores que ya se han cambiado a los planes nuevos. Para esta tarea de clasificación se debe crear un modelo que escoja el plan correcto y desarrollar un modelo con la mayor exactitud posible(umbral de exactitud es 0.75). Usaremos el dataset para comprobar la exactitud.\n",
    "### Objetivo: \n",
    "Desarrollar un modelo: \n",
    "1. Que pueda analizar el comportamiento de los clientes y recomendar uno de los nuevos planes de Megaline: Smart o Ultra. \n",
    "\n",
    "### Etapas \n",
    "El proyecto consistirá en dos etapas:\n",
    " 1. Examinar los datos\n",
    " 2. Segmentar los datos\n",
    " 3. Desarrollo del modelo\n",
    " \n",
    "[Volver a Contenidos](#back)"
   ]
  },
  {
   "attachments": {},
   "cell_type": "markdown",
   "metadata": {},
   "source": [
    "## Etapa 1. Análisis exploratorio de datos <a id='data_review'></a>\n",
    "\n",
    "Abrir los datos y examinarlos.\n",
    "\n",
    "Necesitaremos varias librerías durante todo el proyecto así que vamos a importarlas."
   ]
  },
  {
   "cell_type": "code",
   "execution_count": 3,
   "metadata": {},
   "outputs": [],
   "source": [
    "import pandas as pd\n",
    "import numpy as np\n",
    "import matplotlib.pyplot as plt\n",
    "from sklearn.model_selection import train_test_split\n",
    "from sklearn.tree import DecisionTreeClassifier\n",
    "from sklearn.ensemble import RandomForestClassifier\n",
    "from sklearn.model_selection import GridSearchCV\n",
    "from sklearn.linear_model import LogisticRegression\n",
    "from sklearn.metrics import accuracy_score\n",
    "from sklearn.dummy import DummyClassifier\n",
    "from sklearn.metrics import f1_score"
   ]
  },
  {
   "attachments": {},
   "cell_type": "markdown",
   "metadata": {},
   "source": [
    "Leemos el archivo `users_behavior.csv` de la carpeta `/datasets/` y guardamos en la variable `df`:"
   ]
  },
  {
   "cell_type": "code",
   "execution_count": 4,
   "metadata": {},
   "outputs": [
    {
     "name": "stdout",
     "output_type": "stream",
     "text": [
      "<class 'pandas.core.frame.DataFrame'>\n",
      "RangeIndex: 3214 entries, 0 to 3213\n",
      "Data columns (total 5 columns):\n",
      " #   Column    Non-Null Count  Dtype  \n",
      "---  ------    --------------  -----  \n",
      " 0   calls     3214 non-null   float64\n",
      " 1   minutes   3214 non-null   float64\n",
      " 2   messages  3214 non-null   float64\n",
      " 3   mb_used   3214 non-null   float64\n",
      " 4   is_ultra  3214 non-null   int64  \n",
      "dtypes: float64(4), int64(1)\n",
      "memory usage: 125.7 KB\n"
     ]
    }
   ],
   "source": [
    "# leyendo el archivo y almacenándolo en df\n",
    "try:\n",
    "    df = pd.read_csv('users_behavior.csv')\n",
    "except:\n",
    "    df = pd.read_csv('/datasets/users_behavior.csv') \n",
    "df.info()"
   ]
  },
  {
   "attachments": {},
   "cell_type": "markdown",
   "metadata": {},
   "source": [
    "Imprimimos las 10 primeras filas de la tabla"
   ]
  },
  {
   "cell_type": "code",
   "execution_count": 5,
   "metadata": {},
   "outputs": [
    {
     "data": {
      "text/html": [
       "<div>\n",
       "<style scoped>\n",
       "    .dataframe tbody tr th:only-of-type {\n",
       "        vertical-align: middle;\n",
       "    }\n",
       "\n",
       "    .dataframe tbody tr th {\n",
       "        vertical-align: top;\n",
       "    }\n",
       "\n",
       "    .dataframe thead th {\n",
       "        text-align: right;\n",
       "    }\n",
       "</style>\n",
       "<table border=\"1\" class=\"dataframe\">\n",
       "  <thead>\n",
       "    <tr style=\"text-align: right;\">\n",
       "      <th></th>\n",
       "      <th>calls</th>\n",
       "      <th>minutes</th>\n",
       "      <th>messages</th>\n",
       "      <th>mb_used</th>\n",
       "      <th>is_ultra</th>\n",
       "    </tr>\n",
       "  </thead>\n",
       "  <tbody>\n",
       "    <tr>\n",
       "      <th>0</th>\n",
       "      <td>40.0</td>\n",
       "      <td>311.90</td>\n",
       "      <td>83.0</td>\n",
       "      <td>19915.42</td>\n",
       "      <td>0</td>\n",
       "    </tr>\n",
       "    <tr>\n",
       "      <th>1</th>\n",
       "      <td>85.0</td>\n",
       "      <td>516.75</td>\n",
       "      <td>56.0</td>\n",
       "      <td>22696.96</td>\n",
       "      <td>0</td>\n",
       "    </tr>\n",
       "    <tr>\n",
       "      <th>2</th>\n",
       "      <td>77.0</td>\n",
       "      <td>467.66</td>\n",
       "      <td>86.0</td>\n",
       "      <td>21060.45</td>\n",
       "      <td>0</td>\n",
       "    </tr>\n",
       "    <tr>\n",
       "      <th>3</th>\n",
       "      <td>106.0</td>\n",
       "      <td>745.53</td>\n",
       "      <td>81.0</td>\n",
       "      <td>8437.39</td>\n",
       "      <td>1</td>\n",
       "    </tr>\n",
       "    <tr>\n",
       "      <th>4</th>\n",
       "      <td>66.0</td>\n",
       "      <td>418.74</td>\n",
       "      <td>1.0</td>\n",
       "      <td>14502.75</td>\n",
       "      <td>0</td>\n",
       "    </tr>\n",
       "    <tr>\n",
       "      <th>5</th>\n",
       "      <td>58.0</td>\n",
       "      <td>344.56</td>\n",
       "      <td>21.0</td>\n",
       "      <td>15823.37</td>\n",
       "      <td>0</td>\n",
       "    </tr>\n",
       "    <tr>\n",
       "      <th>6</th>\n",
       "      <td>57.0</td>\n",
       "      <td>431.64</td>\n",
       "      <td>20.0</td>\n",
       "      <td>3738.90</td>\n",
       "      <td>1</td>\n",
       "    </tr>\n",
       "    <tr>\n",
       "      <th>7</th>\n",
       "      <td>15.0</td>\n",
       "      <td>132.40</td>\n",
       "      <td>6.0</td>\n",
       "      <td>21911.60</td>\n",
       "      <td>0</td>\n",
       "    </tr>\n",
       "    <tr>\n",
       "      <th>8</th>\n",
       "      <td>7.0</td>\n",
       "      <td>43.39</td>\n",
       "      <td>3.0</td>\n",
       "      <td>2538.67</td>\n",
       "      <td>1</td>\n",
       "    </tr>\n",
       "    <tr>\n",
       "      <th>9</th>\n",
       "      <td>90.0</td>\n",
       "      <td>665.41</td>\n",
       "      <td>38.0</td>\n",
       "      <td>17358.61</td>\n",
       "      <td>0</td>\n",
       "    </tr>\n",
       "  </tbody>\n",
       "</table>\n",
       "</div>"
      ],
      "text/plain": [
       "   calls  minutes  messages   mb_used  is_ultra\n",
       "0   40.0   311.90      83.0  19915.42         0\n",
       "1   85.0   516.75      56.0  22696.96         0\n",
       "2   77.0   467.66      86.0  21060.45         0\n",
       "3  106.0   745.53      81.0   8437.39         1\n",
       "4   66.0   418.74       1.0  14502.75         0\n",
       "5   58.0   344.56      21.0  15823.37         0\n",
       "6   57.0   431.64      20.0   3738.90         1\n",
       "7   15.0   132.40       6.0  21911.60         0\n",
       "8    7.0    43.39       3.0   2538.67         1\n",
       "9   90.0   665.41      38.0  17358.61         0"
      ]
     },
     "execution_count": 5,
     "metadata": {},
     "output_type": "execute_result"
    }
   ],
   "source": [
    "# obteniendo las 10 primeras filas de la tabla df\n",
    "df.head(10)"
   ]
  },
  {
   "cell_type": "code",
   "execution_count": 6,
   "metadata": {},
   "outputs": [
    {
     "data": {
      "text/plain": [
       "<AxesSubplot: ylabel='Frequency'>"
      ]
     },
     "execution_count": 6,
     "metadata": {},
     "output_type": "execute_result"
    },
    {
     "data": {
      "image/png": "[encoded data removed]",
      "text/plain": [
       "<Figure size 640x480 with 1 Axes>"
      ]
     },
     "metadata": {},
     "output_type": "display_data"
    }
   ],
   "source": [
    "df['calls'].plot(kind='hist')"
   ]
  },
  {
   "attachments": {},
   "cell_type": "markdown",
   "metadata": {},
   "source": [
    "Para la variable `calls`, el histograma nos dice que los usuarios tienen alrededor de 50 y 75 llamadas mensuales."
   ]
  },
  {
   "cell_type": "code",
   "execution_count": 7,
   "metadata": {},
   "outputs": [
    {
     "data": {
      "text/plain": [
       "<AxesSubplot: ylabel='Frequency'>"
      ]
     },
     "execution_count": 7,
     "metadata": {},
     "output_type": "execute_result"
    },
    {
     "data": {
      "image/png": "[encoded data removed]",
      "text/plain": [
       "<Figure size 640x480 with 1 Axes>"
      ]
     },
     "metadata": {},
     "output_type": "display_data"
    }
   ],
   "source": [
    "df['minutes'].plot(kind='hist')"
   ]
  },
  {
   "attachments": {},
   "cell_type": "markdown",
   "metadata": {},
   "source": [
    "Para la variable `minutes`, el histograma nos dice que los usuarios utilizan en promedio 420 minutos mensuales."
   ]
  },
  {
   "cell_type": "code",
   "execution_count": 8,
   "metadata": {},
   "outputs": [
    {
     "data": {
      "text/plain": [
       "<AxesSubplot: ylabel='Frequency'>"
      ]
     },
     "execution_count": 8,
     "metadata": {},
     "output_type": "execute_result"
    },
    {
     "data": {
      "image/png": "[encoded data removed]",
      "text/plain": [
       "<Figure size 640x480 with 1 Axes>"
      ]
     },
     "metadata": {},
     "output_type": "display_data"
    }
   ],
   "source": [
    "df['messages'].plot(kind='hist')"
   ]
  },
  {
   "attachments": {},
   "cell_type": "markdown",
   "metadata": {},
   "source": [
    "Para la variable `messages`, el histograma se concentra en el lado izquierdo del gráfico, con lo cual podemos decir que los usuarios utilizan entre 0 y 20 mensajes mensuales."
   ]
  },
  {
   "cell_type": "code",
   "execution_count": 9,
   "metadata": {},
   "outputs": [
    {
     "data": {
      "text/plain": [
       "<AxesSubplot: ylabel='Frequency'>"
      ]
     },
     "execution_count": 9,
     "metadata": {},
     "output_type": "execute_result"
    },
    {
     "data": {
      "image/png": "[encoded data removed]",
      "text/plain": [
       "<Figure size 640x480 with 1 Axes>"
      ]
     },
     "metadata": {},
     "output_type": "display_data"
    }
   ],
   "source": [
    "df['mb_used'].plot(kind='hist')"
   ]
  },
  {
   "attachments": {},
   "cell_type": "markdown",
   "metadata": {},
   "source": [
    "Para la variable `mb_used`, la distribución de valores se concentra entre 15000 y 20000 megas al mes."
   ]
  },
  {
   "cell_type": "code",
   "execution_count": 10,
   "metadata": {},
   "outputs": [
    {
     "data": {
      "text/plain": [
       "<AxesSubplot: xlabel='is_ultra'>"
      ]
     },
     "execution_count": 10,
     "metadata": {},
     "output_type": "execute_result"
    },
    {
     "data": {
      "image/png": "[encoded data removed]",
      "text/plain": [
       "<Figure size 640x480 with 1 Axes>"
      ]
     },
     "metadata": {},
     "output_type": "display_data"
    }
   ],
   "source": [
    "df.groupby('is_ultra')['is_ultra'].count().plot(kind='bar')"
   ]
  },
  {
   "attachments": {},
   "cell_type": "markdown",
   "metadata": {},
   "source": [
    "La variable `is_ultra` muestra claramente que en nuestro dataset los usuarios Smart predominan sobre los usuarios Ultra, casi el doble."
   ]
  },
  {
   "cell_type": "code",
   "execution_count": 11,
   "metadata": {},
   "outputs": [
    {
     "name": "stdout",
     "output_type": "stream",
     "text": [
      "           count       mean        std  min   25%   50%    75%    max\n",
      "is_ultra                                                             \n",
      "0         2229.0  58.463437  25.939858  0.0  40.0  60.0   76.0  198.0\n",
      "1          985.0  73.392893  43.916853  0.0  41.0  74.0  104.0  244.0\n"
     ]
    },
    {
     "data": {
      "text/plain": [
       "Text(0.5, 1.0, 'Llamadas por plan')"
      ]
     },
     "execution_count": 11,
     "metadata": {},
     "output_type": "execute_result"
    },
    {
     "data": {
      "image/png": "[encoded data removed]",
      "text/plain": [
       "<Figure size 640x480 with 1 Axes>"
      ]
     },
     "metadata": {},
     "output_type": "display_data"
    }
   ],
   "source": [
    "print(df.groupby('is_ultra')['calls'].describe())\n",
    "df.boxplot(column='calls', by='is_ultra')\n",
    "plt.suptitle('')\n",
    "plt.title('Llamadas por plan')"
   ]
  },
  {
   "cell_type": "code",
   "execution_count": 12,
   "metadata": {},
   "outputs": [
    {
     "name": "stdout",
     "output_type": "stream",
     "text": [
      "           count        mean         std  min     25%     50%     75%      max\n",
      "is_ultra                                                                      \n",
      "0         2229.0  405.942952  184.512604  0.0  274.23  410.56  529.51  1390.22\n",
      "1          985.0  511.224569  308.031100  0.0  276.03  502.55  730.05  1632.06\n"
     ]
    },
    {
     "data": {
      "text/plain": [
       "Text(0.5, 1.0, 'Minutos por plan')"
      ]
     },
     "execution_count": 12,
     "metadata": {},
     "output_type": "execute_result"
    },
    {
     "data": {
      "image/png": "[encoded data removed]",
      "text/plain": [
       "<Figure size 640x480 with 1 Axes>"
      ]
     },
     "metadata": {},
     "output_type": "display_data"
    }
   ],
   "source": [
    "print(df.groupby('is_ultra')['minutes'].describe())\n",
    "df.boxplot(column='minutes', by='is_ultra')\n",
    "plt.suptitle('')\n",
    "plt.title('Minutos por plan')"
   ]
  },
  {
   "cell_type": "code",
   "execution_count": 13,
   "metadata": {},
   "outputs": [
    {
     "name": "stdout",
     "output_type": "stream",
     "text": [
      "           count          mean           std  min       25%       50%  \\\n",
      "is_ultra                                                                \n",
      "0         2229.0  16208.466949   5870.498853  0.0  12643.05  16506.93   \n",
      "1          985.0  19468.823228  10087.178654  0.0  11770.28  19308.01   \n",
      "\n",
      "               75%       max  \n",
      "is_ultra                      \n",
      "0         20043.06  38552.62  \n",
      "1         26837.72  49745.73  \n"
     ]
    },
    {
     "data": {
      "text/plain": [
       "Text(0.5, 1.0, 'Megas por plan')"
      ]
     },
     "execution_count": 13,
     "metadata": {},
     "output_type": "execute_result"
    },
    {
     "data": {
      "image/png": "[encoded data removed]",
      "text/plain": [
       "<Figure size 640x480 with 1 Axes>"
      ]
     },
     "metadata": {},
     "output_type": "display_data"
    }
   ],
   "source": [
    "print(df.groupby('is_ultra')['mb_used'].describe())\n",
    "df.boxplot(column='mb_used', by='is_ultra')\n",
    "plt.suptitle('')\n",
    "plt.title('Megas por plan')"
   ]
  },
  {
   "attachments": {},
   "cell_type": "markdown",
   "metadata": {},
   "source": [
    "Revisando las descripciones númericas de los datos junto a los boxplots, podemos notar que las desviaciones estándar son casi el doble para los usuarios Ultra, esto quiere decir que los valores se han distribuido de manera diferente para cada plan, siendo el plan Smart que se concentra en valores más pequeños que el plan Ultra, mientras que en el plan Ultra el boxplot es más largo que Smart, lo que indica que los valores están mucho más repartidos entre los usuarios del plan Ultra."
   ]
  },
  {
   "attachments": {},
   "cell_type": "markdown",
   "metadata": {},
   "source": [
    "## Etapa 2. Segmentar los datos <a id='data_review'></a>\n",
    "Vamos a segmentar los datos fuente en un conjunto de entrenamiento, uno de validación y uno de prueba. Para esto, necesitaremos la función llamada 'train_test_split', la cual importaremos desde el módulo 'model_selection' de scikit-learn.\n",
    "\n",
    "Como el conjunto de prueba no existe. En ese caso los datos fuente deben dividirse en tres partes: entrenamiento, validación y prueba. Usualmente, el tamaño del conjunto de validación y del de prueba son iguales. Esto da como resultado una proporción de datos fuente de 3:1:1, se requiere un enfoque correcto para segmentar correctamente, por eso usaremos dos veces la función train_test_split, la primera para hallar el conjunto de entrenamiento (60% de los datos) con un test_size de 0.40 y luego usaremos el 40% restante para hallar el conjunto de validación y de prueba con un test_size de 0.50."
   ]
  },
  {
   "cell_type": "code",
   "execution_count": 14,
   "metadata": {},
   "outputs": [],
   "source": [
    "#separamos los datos en entrenamiento, validación y prueba\n",
    "df_train, df_valid_test = train_test_split(df, test_size=0.40, random_state=12345)\n",
    "df_valid, df_test = train_test_split(df_valid_test, test_size=0.50, random_state=12345)"
   ]
  },
  {
   "cell_type": "code",
   "execution_count": 15,
   "metadata": {},
   "outputs": [],
   "source": [
    "#declaramos variables para las características y para la característica objetivo\n",
    "features_train = df_train.drop('is_ultra', axis=1)\n",
    "target_train = df_train['is_ultra']\n",
    "\n",
    "features_valid = df_valid.drop('is_ultra', axis=1)\n",
    "target_valid = df_valid['is_ultra']\n",
    "\n",
    "features_test = df_test.drop('is_ultra', axis=1)\n",
    "target_test = df_test['is_ultra']"
   ]
  },
  {
   "cell_type": "code",
   "execution_count": 16,
   "metadata": {},
   "outputs": [
    {
     "name": "stdout",
     "output_type": "stream",
     "text": [
      "(1928, 4)\n",
      "(1928,)\n",
      "(643, 4)\n",
      "(643,)\n",
      "(643, 4)\n",
      "(643,)\n"
     ]
    }
   ],
   "source": [
    "#Hallando los tamaños de las tablas\n",
    "print(features_train.shape)\n",
    "print(target_train.shape)\n",
    "print(features_valid.shape)\n",
    "print(target_valid.shape)\n",
    "print(features_test.shape)\n",
    "print(target_test.shape)"
   ]
  },
  {
   "attachments": {},
   "cell_type": "markdown",
   "metadata": {},
   "source": [
    "## Etapa 3. Desarrollo del modelo<a id='data_review'></a>"
   ]
  },
  {
   "attachments": {},
   "cell_type": "markdown",
   "metadata": {},
   "source": [
    "Vamos a investigar la calidad de diferentes modelos cambiando los hiperparámetros."
   ]
  },
  {
   "attachments": {},
   "cell_type": "markdown",
   "metadata": {},
   "source": [
    "Para nuestro primer modelo usaremos el **árbol de decisión**, necesitaremos importar la clase **DecisionTreeClassifier** del módulo **tree** de la librería **sklearn**. Este modelo contiene un parámetro random_state que sirve para añadir pseudoaleatoriedad al crear un algoritmo de aprendizaje y un hiperparámetro max_depth que controla la profundidad máxima del árbol."
   ]
  },
  {
   "cell_type": "code",
   "execution_count": 17,
   "metadata": {},
   "outputs": [
    {
     "name": "stdout",
     "output_type": "stream",
     "text": [
      "max_depth = 1 : 0.7542768273716952\n",
      "max_depth = 2 : 0.7822706065318819\n",
      "max_depth = 3 : 0.7853810264385692\n",
      "max_depth = 4 : 0.7791601866251944\n",
      "max_depth = 5 : 0.7791601866251944\n"
     ]
    }
   ],
   "source": [
    "#creamos un bucle para max_depth de 1 a 5\n",
    "for depth in range(1, 6):\n",
    "    model_1 = DecisionTreeClassifier(random_state=12345, max_depth=depth)\n",
    "    model_1.fit(features_train, target_train)\n",
    "    predictions_valid = model_1.predict(features_valid)\n",
    "    print('max_depth =', depth, ': ', end='')\n",
    "    print(accuracy_score(target_valid, predictions_valid))"
   ]
  },
  {
   "attachments": {},
   "cell_type": "markdown",
   "metadata": {},
   "source": [
    "Para nuestro segundo modelo usaremos el **bosque aleatorio**, necesitaremos importar la clase **RandomForestClassifier** del módulo **ensemble** de la librería **sklearn**. Este modelo contiene un parámetro ***random_state*** que sirve para añadir pseudoaleatoriedad al crear un algoritmo de aprendizaje y un hiperparámetro ****n_estimators*** que establece el número de árboles en el bosque."
   ]
  },
  {
   "cell_type": "code",
   "execution_count": 18,
   "metadata": {},
   "outputs": [
    {
     "name": "stdout",
     "output_type": "stream",
     "text": [
      "Accuracy del mejor modelo en el conjunto de validación 0.8055987558320373 n_estimators: 40 best_depth: 10\n"
     ]
    }
   ],
   "source": [
    "#creamos un bucle que pruebe modelos de bosque aleatorio con varios números de estimadores (árboles)\n",
    "best_model = None\n",
    "best_score = 0\n",
    "best_est = 0\n",
    "best_depth = 0\n",
    "#seleccionamos el rango del hiperparámetro\n",
    "for est in range(10, 51, 10):\n",
    "    for depth in range (1, 11):\n",
    "        model_2 = RandomForestClassifier(random_state=54321, n_estimators=est, max_depth=depth)\n",
    "        model_2.fit(features_train, target_train) #entrenamos el modelo en el conjunto de entrenamiento\n",
    "        score = model_2.score(features_valid, target_valid) #calculamos la puntuación de accuracy en el conjunto de validación\n",
    "        if score > best_score:\n",
    "            best_model = model_2\n",
    "            best_score = score #guardamos la mejor puntuación de accuracy en el conjunto de validación\n",
    "            best_est = est #guardamos el número de estimadores que corresponden a la mejor puntuación de accuracy\n",
    "            best_depth = depth #guardamos la profundidad máxima que corresponden a la mejor puntuación de accuracy\n",
    "        \n",
    "print(\"Accuracy del mejor modelo en el conjunto de validación\", best_score, \"n_estimators:\", best_est, \"best_depth:\", depth)"
   ]
  },
  {
   "attachments": {},
   "cell_type": "markdown",
   "metadata": {},
   "source": [
    "Guardamos el segundo modelo con otra variable para poderla usarla más adelante sin necesidad de volver a entrenarla."
   ]
  },
  {
   "cell_type": "code",
   "execution_count": 19,
   "metadata": {},
   "outputs": [
    {
     "name": "stdout",
     "output_type": "stream",
     "text": [
      "0.8055987558320373\n"
     ]
    }
   ],
   "source": [
    "#la mejor exactitud para nuestro segundo modelo es con n_estimators=40 y 40 max_depth= 10\n",
    "final_model_2 = best_model\n",
    "print(final_model_2.score(features_valid, target_valid))"
   ]
  },
  {
   "attachments": {},
   "cell_type": "markdown",
   "metadata": {},
   "source": [
    "Para nuestro último modelo usaremos la **regresión logística**, necesitaremos importar la clase **LogisticRegression** del módulo **linear_model** de la librería **sklearn**. Este modelo contiene un parámetro ***random_state*** que sirve para añadir pseudoaleatoriedad al crear un algoritmo de aprendizaje, también necesitamos especificar un solver ***liblinear y lbfgs*** porque funcionan para diferentes casos, también probaremos con distintos valores para **penalty**."
   ]
  },
  {
   "cell_type": "code",
   "execution_count": 20,
   "metadata": {},
   "outputs": [
    {
     "name": "stdout",
     "output_type": "stream",
     "text": [
      "penalty = l1 - Accuracy entrenamiento: 0.7531120331950207\n",
      "penalty = l1 - Accuracy validación: 0.7573872472783826\n",
      "penalty = l2 - Accuracy entrenamiento: 0.7505186721991701\n",
      "penalty = l2 - Accuracy validación: 0.7589424572317263\n"
     ]
    }
   ],
   "source": [
    "# usamos las diferentes normas de penalty en solver: 'liblinear'\n",
    "penal_liblinear = ['l1', 'l2']\n",
    "for pnl in penal_liblinear: \n",
    "    #inicializamos el constructor de regresión logística con los parámetros random_state=54321 y solver='liblinear'\n",
    "    model_3_liblinear = LogisticRegression(random_state=54321, solver='liblinear', penalty=pnl)\n",
    "    #entrenamos el modelo en el conjunto de entrenamiento\n",
    "    model_3_liblinear.fit(features_train, target_train)\n",
    "    #calculamos la puntuación de accuracy en el conjunto de entrenamiento\n",
    "    score_train_liblinear = model_3_liblinear.score(features_train, target_train)\n",
    "    #calculamos la puntuación de accuracy en el conjunto de validación\n",
    "    score_valid_liblinear = model_3_liblinear.score(features_valid, target_valid)\n",
    "    print('penalty =', pnl, '- Accuracy entrenamiento: ', end='')\n",
    "    print(score_train_liblinear)\n",
    "    print('penalty =', pnl, '- Accuracy validación: ', end='')\n",
    "    print(score_valid_liblinear)"
   ]
  },
  {
   "cell_type": "code",
   "execution_count": 21,
   "metadata": {},
   "outputs": [
    {
     "name": "stdout",
     "output_type": "stream",
     "text": [
      "penalty = l2 - Accuracy entrenamiento: 0.7131742738589212\n",
      "penalty = l2 - Accuracy validación: 0.7107309486780715\n",
      "penalty = none - Accuracy entrenamiento: 0.7531120331950207\n",
      "penalty = none - Accuracy validación: 0.7558320373250389\n"
     ]
    },
    {
     "name": "stderr",
     "output_type": "stream",
     "text": [
      "c:\\Users\\joste\\AppData\\Local\\Programs\\Python\\Python311\\Lib\\site-packages\\sklearn\\linear_model\\_logistic.py:1173: FutureWarning: `penalty='none'`has been deprecated in 1.2 and will be removed in 1.4. To keep the past behaviour, set `penalty=None`.\n",
      "  warnings.warn(\n"
     ]
    }
   ],
   "source": [
    "# usamos las diferentes normas de penalty en solver: 'lbfgs'\n",
    "penal_lbfgs = ['l2', 'none']\n",
    "for pnl in penal_lbfgs: \n",
    "    #inicializamos el constructor de regresión logística con los parámetros random_state=54321 y solver='liblinear'\n",
    "    model_3_lbfgs = LogisticRegression(random_state=54321, solver='lbfgs', penalty=pnl)\n",
    "    #entrenamos el modelo en el conjunto de entrenamiento\n",
    "    model_3_lbfgs.fit(features_train, target_train)\n",
    "    #calculamos la puntuación de accuracy en el conjunto de entrenamiento\n",
    "    score_train_lbfgs = model_3_lbfgs.score(features_train, target_train)\n",
    "    #calculamos la puntuación de accuracy en el conjunto de validación\n",
    "    score_valid_lbfgs = model_3_lbfgs.score(features_valid, target_valid)\n",
    "    print('penalty =', pnl, '- Accuracy entrenamiento: ', end='')\n",
    "    print(score_train_lbfgs)\n",
    "    print('penalty =', pnl, '- Accuracy validación: ', end='')\n",
    "    print(score_valid_lbfgs)    "
   ]
  },
  {
   "attachments": {},
   "cell_type": "markdown",
   "metadata": {},
   "source": [
    "Para nuestro modelo de regresión logística, el que tiene la mayor exactitud es el modelo con solver igual a 'liblinear' y penalty igual a 'l2', que nos resultó con una exactitud de 0.759."
   ]
  },
  {
   "attachments": {},
   "cell_type": "markdown",
   "metadata": {},
   "source": [
    "Encontramos de los tres modelos el que tiene la exactitud más alta, es decir, el modelo de mayor calidad es el segundo modelo(**RandomForest**) con hiperparámetro max_depth igual a 10 y n_estimator igual a 40 que nos da una exactitud de 0.806. Con respecto a los demás modelos no hay mucha diferencia en sus exactitudes."
   ]
  },
  {
   "attachments": {},
   "cell_type": "markdown",
   "metadata": {},
   "source": [
    "Ahora vamos a comprobar la calidad del modelo usando el conjunto de prueba."
   ]
  },
  {
   "attachments": {},
   "cell_type": "markdown",
   "metadata": {},
   "source": [
    "Ya que tenemos el modelo con la calidad más alta(**RandomForest**), tenemos que verificar la calidad del modelo con su respectivo conjunto de prueba."
   ]
  },
  {
   "cell_type": "code",
   "execution_count": 22,
   "metadata": {},
   "outputs": [
    {
     "name": "stdout",
     "output_type": "stream",
     "text": [
      "accuracy de: 0.8055987558320373\n"
     ]
    }
   ],
   "source": [
    "#comprobando la calidad del modelo con features_test y target_test\n",
    "predictions_test = final_model_2.predict(features_test)\n",
    "print('accuracy de:', accuracy_score(target_test, predictions_test))"
   ]
  },
  {
   "attachments": {},
   "cell_type": "markdown",
   "metadata": {},
   "source": [
    "Al comprobar con el conjunto de prueba en el modelo más optimo(**RandomForest**), la exactitud nos sale 0.806 que es exactamente igual al valor que nos salió con el conjunto de validación. Otro criterio importante a tener en cuenta , la velocidad de ejecución, al tratarse de un modelo bosque aleatorio la velocidad de ejecución es la más alta con respecto a los demás modelos, pero para este proyecto el mejor criterio que tenemos es el de tener la mayor exactitud posible por lo que comprobamos que el modelo elegido es el de mayor calidad.]"
   ]
  },
  {
   "attachments": {},
   "cell_type": "markdown",
   "metadata": {},
   "source": [
    "Finalmente realizaremos una prueba de cordura al modelo con el **f1_score**:"
   ]
  },
  {
   "cell_type": "code",
   "execution_count": 23,
   "metadata": {},
   "outputs": [
    {
     "name": "stdout",
     "output_type": "stream",
     "text": [
      "0.6268656716417911\n"
     ]
    }
   ],
   "source": [
    "# utilizamos la función f1_score sobre nuestros datos de prueba\n",
    "predicted_test = final_model_2.predict(features_test)\n",
    "print(f1_score(target_test, predicted_test))"
   ]
  },
  {
   "attachments": {},
   "cell_type": "markdown",
   "metadata": {},
   "source": [
    "La prueba nos resultó 0.63, que es bastante aceptable para nuestro modelo, ya que es la media de las respuestas positivas que predijo nuestro modelo nos quiere decir que más de la mitad de las respuestas fueron predecidas correctamente."
   ]
  },
  {
   "attachments": {},
   "cell_type": "markdown",
   "metadata": {},
   "source": [
    "### Conclusiones\n",
    "Lo primero que hicimos al probar distintos modelos fueron:\n",
    "- Para el árbol de decisión iteramos sobre la profundidad del árbol.\n",
    "- Para el bosque aleatorio iteramos sobre la profundiad del árbol y el número de estimadores.\n",
    "- Para la regresión logística iteramos sobre las normas de penalidad y sobre los solver.\n",
    "\n",
    "Logramos cumplir el objetivo del proyecto, el cual era desarrollar con éxito el modelo con la mayor exactitud posible superior al umbral de exactitud de 0.75 del proyecto, el modelo ideal fue el de ***RandomForest*** con una exactitud de 0.806, esto con una profundidad de 10 y con n_estimators igual a 40. Y comprobamos la calidad del modelo con el dataset de prueba, en el cual encontramos una exactitud de 0.806.\n",
    "\n",
    "Con respecto a la prueba de cordura, utilizamos el f1_score, ya que la función toma respuestas y predicciones correctas y devuelve la media armónica de recall y precisión ambas métricas importantes para evaluar nuestro modelo, el f1_score nos resultó 0.63 que significa que se pronosticó de manera bastante aceptable la clase positiva."
   ]
  }
 ],
 "metadata": {
  "kernelspec": {
   "display_name": "Python 3 (ipykernel)",
   "language": "python",
   "name": "python3"
  },
  "language_info": {
   "codemirror_mode": {
    "name": "ipython",
    "version": 3
   },
   "file_extension": ".py",
   "mimetype": "text/x-python",
   "name": "python",
   "nbconvert_exporter": "python",
   "pygments_lexer": "ipython3",
   "version": "3.11.1"
  },
  "toc": {
   "base_numbering": 1,
   "nav_menu": {},
   "number_sections": true,
   "sideBar": true,
   "skip_h1_title": true,
   "title_cell": "Table of Contents",
   "title_sidebar": "Contents",
   "toc_cell": false,
   "toc_position": {},
   "toc_section_display": true,
   "toc_window_display": false
  }
 },
 "nbformat": 4,
 "nbformat_minor": 2
}
